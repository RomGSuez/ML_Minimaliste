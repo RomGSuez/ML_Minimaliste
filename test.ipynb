{
 "cells": [
  {
   "cell_type": "code",
   "execution_count": 9,
   "metadata": {},
   "outputs": [
    {
     "name": "stdout",
     "output_type": "stream",
     "text": [
      "   sepal length  sepal width  petal length  petal width\n",
      "0             1            2             3            4\n",
      "[2]\n"
     ]
    },
    {
     "name": "stderr",
     "output_type": "stream",
     "text": [
      "c:\\Users\\girodet.romain.ext\\Anaconda3\\envs\\Apprendizaje_Profundo_py397\\lib\\site-packages\\sklearn\\base.py:443: UserWarning: X has feature names, but DecisionTreeClassifier was fitted without feature names\n",
      "  warnings.warn(\n"
     ]
    }
   ],
   "source": [
    "import pandas as pd \n",
    "\n",
    "from ML.ML_trainAlgo import Trainer\n",
    "\n",
    "\n",
    "\n",
    "class Interface():\n",
    "    \n",
    "    def read_input(self):\n",
    "        return pd.read_csv(\"input.txt\",delimiter=\";\",header=3)\n",
    "    \n",
    "    def predict_input(self):\n",
    "        \n",
    "        tree=Trainer.load_classifier()\n",
    "        # input=self.read_input()\n",
    "        return tree.predict(input)\n",
    "\n",
    "    def convert_numeric_to_nominal():\n",
    "        pass\n",
    "        \n",
    "        \n",
    "\n",
    "interface=Interface()\n",
    "\n",
    "input=interface.read_input()\n",
    "print(input)\n",
    "\n",
    "predict=interface.predict_input()\n",
    "print(predict)"
   ]
  }
 ],
 "metadata": {
  "kernelspec": {
   "display_name": "Python 3.9.7 ('Apprendizaje_Profundo_py397')",
   "language": "python",
   "name": "python3"
  },
  "language_info": {
   "codemirror_mode": {
    "name": "ipython",
    "version": 3
   },
   "file_extension": ".py",
   "mimetype": "text/x-python",
   "name": "python",
   "nbconvert_exporter": "python",
   "pygments_lexer": "ipython3",
   "version": "3.9.7"
  },
  "orig_nbformat": 4,
  "vscode": {
   "interpreter": {
    "hash": "09884491e9d64b926e4d312fdd0a9719d3defbf9918a218feaaadfe848480cef"
   }
  }
 },
 "nbformat": 4,
 "nbformat_minor": 2
}
